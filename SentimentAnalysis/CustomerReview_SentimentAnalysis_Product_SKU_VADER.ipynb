{
 "cells": [
  {
   "cell_type": "code",
   "execution_count": 0,
   "metadata": {
    "application/vnd.databricks.v1+cell": {
     "cellMetadata": {},
     "inputWidgets": {},
     "nuid": "0414e4fd-a5f9-436e-b1ea-34b44d24ea27",
     "showTitle": false,
     "title": ""
    }
   },
   "outputs": [],
   "source": [
    "# Installing all the libraries\n",
    "!pip install pandas\n",
    "!pip install langdetect\n",
    "!pip install nltk\n",
    "!pip install numpy\n",
    "!pip install tqdm\n",
    "!pip install transformers\n",
    "!pip install torch"
   ]
  },
  {
   "cell_type": "code",
   "execution_count": 0,
   "metadata": {
    "application/vnd.databricks.v1+cell": {
     "cellMetadata": {},
     "inputWidgets": {},
     "nuid": "5f064f0e-96fc-43a2-a035-0bef2b47c9fa",
     "showTitle": false,
     "title": ""
    }
   },
   "outputs": [],
   "source": [
    "import pyspark\n",
    "from pyspark.sql import SparkSession\n",
    "from pyspark.sql.types import StructField, StructType, StringType, MapType, TimestampType\n",
    "# from pyspark.sql.types import *\n",
    "# from pyspark.sql.functions import *\n",
    "import zipfile\n",
    "import pandas as pd\n",
    "import numpy as np\n",
    "from pyspark.sql.functions import col\n",
    "import os\n",
    "from pyspark.sql.functions import lit, to_date, to_timestamp\n",
    "from pyspark.sql.functions import input_file_name"
   ]
  },
  {
   "cell_type": "code",
   "execution_count": 0,
   "metadata": {
    "application/vnd.databricks.v1+cell": {
     "cellMetadata": {},
     "inputWidgets": {},
     "nuid": "1157449d-ee5c-43dd-a12a-63916a781d5e",
     "showTitle": false,
     "title": ""
    }
   },
   "outputs": [],
   "source": [
    "path_m = \"/mnt/adls/test/PrachiSingh/SentAnalysis/FMCGCompany/Product_SKU.xlsx\""
   ]
  },
  {
   "cell_type": "code",
   "execution_count": 0,
   "metadata": {
    "application/vnd.databricks.v1+cell": {
     "cellMetadata": {},
     "inputWidgets": {},
     "nuid": "b20ca184-d3e3-431c-91f7-aa413beb18b9",
     "showTitle": false,
     "title": ""
    }
   },
   "outputs": [],
   "source": [
    "df_m = spark.read\\\n",
    "          .format(\"com.crealytics.spark.excel\")\\\n",
    "          .option(\"header\", \"true\")\\\n",
    "          .option(\"treatEmptyValuesAsNulls\", \"true\")\\\n",
    "          .load(path_m)"
   ]
  },
  {
   "cell_type": "code",
   "execution_count": 0,
   "metadata": {
    "application/vnd.databricks.v1+cell": {
     "cellMetadata": {},
     "inputWidgets": {},
     "nuid": "04007a9e-1ed0-4929-8dea-14064dd23c5b",
     "showTitle": false,
     "title": ""
    }
   },
   "outputs": [],
   "source": [
    "# Converting the Pyspark Dataframe to Pandas Dataframe because I am using the later and related library for the analysis."
   ]
  },
  {
   "cell_type": "code",
   "execution_count": 0,
   "metadata": {
    "application/vnd.databricks.v1+cell": {
     "cellMetadata": {},
     "inputWidgets": {},
     "nuid": "a585d3ed-9e1a-4d87-9bbe-073872e6dabb",
     "showTitle": false,
     "title": ""
    }
   },
   "outputs": [],
   "source": [
    "df_p = df_m.toPandas()"
   ]
  },
  {
   "cell_type": "code",
   "execution_count": 0,
   "metadata": {
    "application/vnd.databricks.v1+cell": {
     "cellMetadata": {},
     "inputWidgets": {},
     "nuid": "6a5e1675-1fe1-4550-b192-557316ffd593",
     "showTitle": false,
     "title": ""
    }
   },
   "outputs": [],
   "source": [
    "# Handling null values"
   ]
  },
  {
   "cell_type": "code",
   "execution_count": 0,
   "metadata": {
    "application/vnd.databricks.v1+cell": {
     "cellMetadata": {},
     "inputWidgets": {},
     "nuid": "ee759baa-d640-4fa3-9cd8-057723f416c4",
     "showTitle": false,
     "title": ""
    }
   },
   "outputs": [],
   "source": [
    "df_sum = df_p.isnull().sum().to_frame() "
   ]
  },
  {
   "cell_type": "code",
   "execution_count": 0,
   "metadata": {
    "application/vnd.databricks.v1+cell": {
     "cellMetadata": {},
     "inputWidgets": {},
     "nuid": "99f8a32c-3dce-490f-ac06-99dfd820fd69",
     "showTitle": false,
     "title": ""
    }
   },
   "outputs": [],
   "source": [
    "df_p.shape[0] "
   ]
  },
  {
   "cell_type": "code",
   "execution_count": 0,
   "metadata": {
    "application/vnd.databricks.v1+cell": {
     "cellMetadata": {},
     "inputWidgets": {},
     "nuid": "3e6c2752-219c-4165-a78d-419e7f230c05",
     "showTitle": false,
     "title": ""
    }
   },
   "outputs": [],
   "source": [
    "df_sum.display()"
   ]
  },
  {
   "cell_type": "code",
   "execution_count": 0,
   "metadata": {
    "application/vnd.databricks.v1+cell": {
     "cellMetadata": {},
     "inputWidgets": {},
     "nuid": "2650b45e-005c-484d-ab6b-e2555568675a",
     "showTitle": false,
     "title": ""
    }
   },
   "outputs": [],
   "source": [
    "# Dropping columns that contains nulls more than 30% of the records i.e, 155 records\n",
    "# Col No. 79,98\n",
    "df_p = df_p.drop(df_p.columns[[78,97]], \n",
    "                       axis = 1)"
   ]
  },
  {
   "cell_type": "code",
   "execution_count": 0,
   "metadata": {
    "application/vnd.databricks.v1+cell": {
     "cellMetadata": {},
     "inputWidgets": {},
     "nuid": "c4be52aa-ceb9-4e8f-ba06-e013eab545e2",
     "showTitle": false,
     "title": ""
    }
   },
   "outputs": [],
   "source": [
    "# Changing Yes and No to 1 and 0 respectively for easier EDA\n",
    "df_p = df_p.replace(to_replace = \"Yes\", value = 1)\n",
    "df_p = df_p.replace(to_replace = \"No\", value = 0)"
   ]
  },
  {
   "cell_type": "code",
   "execution_count": 0,
   "metadata": {
    "application/vnd.databricks.v1+cell": {
     "cellMetadata": {},
     "inputWidgets": {},
     "nuid": "91262307-a47b-4f74-a158-a8f6dafe56ad",
     "showTitle": false,
     "title": ""
    }
   },
   "outputs": [],
   "source": [
    "# Filling the columns with ffill() function for those columns with null values less than 30%\n",
    "# I found that the first row of the dataframe does not contain any nulls, so, it is safe to use the interpolate methd(interpolate(method ='linear', limit_direction ='forward')) for filling the null values.\n",
    "df_p = df_p.interpolate(method ='linear', limit_direction ='forward')"
   ]
  },
  {
   "cell_type": "code",
   "execution_count": 0,
   "metadata": {
    "application/vnd.databricks.v1+cell": {
     "cellMetadata": {},
     "inputWidgets": {},
     "nuid": "77cb1453-9927-479c-a5b0-2ff168d4236e",
     "showTitle": false,
     "title": ""
    }
   },
   "outputs": [],
   "source": [
    "df_p.info()"
   ]
  },
  {
   "cell_type": "code",
   "execution_count": 0,
   "metadata": {
    "application/vnd.databricks.v1+cell": {
     "cellMetadata": {},
     "inputWidgets": {},
     "nuid": "b7094c6b-1f6f-4080-8cfd-e0b4ae54d5d7",
     "showTitle": false,
     "title": ""
    }
   },
   "outputs": [],
   "source": [
    "df_col_names = df_p.columns.to_frame() "
   ]
  },
  {
   "cell_type": "code",
   "execution_count": 0,
   "metadata": {
    "application/vnd.databricks.v1+cell": {
     "cellMetadata": {},
     "inputWidgets": {},
     "nuid": "5b96aa39-0be4-4fc8-8ae1-09415eebfba3",
     "showTitle": false,
     "title": ""
    }
   },
   "outputs": [],
   "source": [
    "df_col_names.display()"
   ]
  },
  {
   "cell_type": "code",
   "execution_count": 0,
   "metadata": {
    "application/vnd.databricks.v1+cell": {
     "cellMetadata": {},
     "inputWidgets": {},
     "nuid": "bee76b4a-83b6-42fa-9741-920161a0cbc0",
     "showTitle": false,
     "title": ""
    }
   },
   "outputs": [],
   "source": [
    "df_p['Recommend_to_Others_on_0to10'] = df_p['Recommend_to_Others_on_0to10'].replace(['Extremely recommend'], '10')\n",
    "df_p['Recommend_to_Others_on_0to10'] = df_p['Recommend_to_Others_on_0to10'].replace(['Not at all recommend'], '0')"
   ]
  },
  {
   "cell_type": "code",
   "execution_count": 0,
   "metadata": {
    "application/vnd.databricks.v1+cell": {
     "cellMetadata": {},
     "inputWidgets": {},
     "nuid": "ede71244-64c7-4026-83bc-a83c74c97193",
     "showTitle": false,
     "title": ""
    }
   },
   "outputs": [],
   "source": [
    "# Sorting the dataframe according to the column- \"Recommend_FMCG_Company_On_A_0_10_Scale\"\n",
    "# First convert column \"Recommend_FMCG_Company_On_A_0_10_Scale\" to numeric type and then sort.\n",
    "df_p[[\"Recommend_to_Others_on_0to10\"]] = df_p[[\"Recommend_to_Others_on_0to10\"]].apply(pd.to_numeric)\n",
    "df_p = df_p.sort_values(by=['Recommend_to_Others_on_0to10'], ascending=True)"
   ]
  },
  {
   "cell_type": "code",
   "execution_count": 0,
   "metadata": {
    "application/vnd.databricks.v1+cell": {
     "cellMetadata": {},
     "inputWidgets": {},
     "nuid": "80a20785-472f-4ce9-b776-e1887e5ecff3",
     "showTitle": false,
     "title": ""
    }
   },
   "outputs": [],
   "source": [
    "import warnings\n",
    "warnings.filterwarnings('ignore')\n",
    "import pandas as pd\n",
    "from sklearn.feature_extraction.text import TfidfVectorizer\n",
    "import matplotlib.pyplot as plt\n",
    "import pandas as pd\n",
    "from nltk.corpus import stopwords\n",
    "from nltk.tokenize import word_tokenize\n",
    "from nltk.stem import WordNetLemmatizer\n",
    "import re\n",
    "import nltk\n",
    "from nltk.tag import pos_tag\n",
    "import seaborn as sns"
   ]
  },
  {
   "cell_type": "code",
   "execution_count": 0,
   "metadata": {
    "application/vnd.databricks.v1+cell": {
     "cellMetadata": {},
     "inputWidgets": {},
     "nuid": "b87c096a-23bf-42e2-9ca8-652642c01f3a",
     "showTitle": false,
     "title": ""
    }
   },
   "outputs": [],
   "source": [
    "nltk.download('punkt')\n",
    "nltk.download('stopwords')"
   ]
  },
  {
   "cell_type": "code",
   "execution_count": 0,
   "metadata": {
    "application/vnd.databricks.v1+cell": {
     "cellMetadata": {},
     "inputWidgets": {},
     "nuid": "549bd4fc-a48b-4bb3-b531-fa1d309fbf0e",
     "showTitle": false,
     "title": ""
    }
   },
   "outputs": [],
   "source": [
    "from nltk.sentiment import SentimentIntensityAnalyzer\n",
    "from tqdm.notebook import tqdm"
   ]
  },
  {
   "cell_type": "code",
   "execution_count": 0,
   "metadata": {
    "application/vnd.databricks.v1+cell": {
     "cellMetadata": {},
     "inputWidgets": {},
     "nuid": "42f0a627-0667-4ac9-a73a-6431d38e6ea9",
     "showTitle": false,
     "title": ""
    }
   },
   "outputs": [],
   "source": [
    "nltk.download('vader_lexicon')"
   ]
  },
  {
   "cell_type": "code",
   "execution_count": 0,
   "metadata": {
    "application/vnd.databricks.v1+cell": {
     "cellMetadata": {},
     "inputWidgets": {},
     "nuid": "75ca41bc-45ef-4b81-ba32-62ce6a327b53",
     "showTitle": false,
     "title": ""
    }
   },
   "outputs": [],
   "source": [
    "sia = SentimentIntensityAnalyzer()"
   ]
  },
  {
   "cell_type": "code",
   "execution_count": 0,
   "metadata": {
    "application/vnd.databricks.v1+cell": {
     "cellMetadata": {},
     "inputWidgets": {},
     "nuid": "a5ac054c-1e08-44b0-80c4-2ef85a69995f",
     "showTitle": false,
     "title": ""
    }
   },
   "outputs": [],
   "source": [
    "df_p[['Reason_for_rating']] = df_p[['Reason_for_rating']].astype(str)"
   ]
  },
  {
   "cell_type": "code",
   "execution_count": 0,
   "metadata": {
    "application/vnd.databricks.v1+cell": {
     "cellMetadata": {},
     "inputWidgets": {},
     "nuid": "528f0278-6795-4669-b76e-d73b48792450",
     "showTitle": false,
     "title": ""
    }
   },
   "outputs": [],
   "source": [
    "# Running the polarity score on the entire dataset\n",
    "res={}\n",
    "for i, row in tqdm(df_p.iterrows(),total=len(df_p.columns)):\n",
    "  text = row['Reason_for_rating']\n",
    "  myid = row['Unique_ID_for_Respondent']\n",
    "  res[myid]=sia.polarity_scores(text)"
   ]
  },
  {
   "cell_type": "code",
   "execution_count": 0,
   "metadata": {
    "application/vnd.databricks.v1+cell": {
     "cellMetadata": {},
     "inputWidgets": {},
     "nuid": "3eef1b9d-aff3-4a19-b57f-820077aa2831",
     "showTitle": false,
     "title": ""
    }
   },
   "outputs": [],
   "source": [
    "vaders = pd.DataFrame(res).T\n",
    "vaders = vaders.reset_index().rename(columns={'index':'Unique_ID_for_Respondent'})\n",
    "vaders = vaders.merge(df_p,how='left')"
   ]
  },
  {
   "cell_type": "code",
   "execution_count": 0,
   "metadata": {
    "application/vnd.databricks.v1+cell": {
     "cellMetadata": {},
     "inputWidgets": {},
     "nuid": "67d2201c-5832-453b-b0ba-8cd60a3a1323",
     "showTitle": false,
     "title": ""
    }
   },
   "outputs": [],
   "source": [
    "vaders = vaders.rename(columns={'Recommend_to_Others_on_0to10': 'Recommendation_Score'})"
   ]
  },
  {
   "cell_type": "code",
   "execution_count": 0,
   "metadata": {
    "application/vnd.databricks.v1+cell": {
     "cellMetadata": {},
     "inputWidgets": {},
     "nuid": "bbbd18e6-40aa-4cc7-babc-7090d6e6fc6a",
     "showTitle": false,
     "title": ""
    }
   },
   "outputs": [],
   "source": [
    "# Positive Score Vs Recommend Rating\n",
    "sns.barplot(x = 'Recommendation_Score',\n",
    "            y = 'pos',\n",
    "            data = vaders)\n",
    "plt.xlabel(\"Recommendation Score\")\n",
    "plt.ylabel(\"Positive Score from VADER\")\n",
    "plt.show()"
   ]
  },
  {
   "cell_type": "code",
   "execution_count": 0,
   "metadata": {
    "application/vnd.databricks.v1+cell": {
     "cellMetadata": {},
     "inputWidgets": {},
     "nuid": "d4ac8ae2-fc65-443a-8826-e69939e909e8",
     "showTitle": false,
     "title": ""
    }
   },
   "outputs": [],
   "source": [
    "# Neutral Score Vs Recommend Rating\n",
    "sns.barplot(x = 'Recommendation_Score',\n",
    "            y = 'neu',\n",
    "            data = vaders)\n",
    "plt.xlabel(\"Recommendation Score\")\n",
    "plt.ylabel(\"Neutral Score from VADER\")\n",
    "plt.show()"
   ]
  },
  {
   "cell_type": "code",
   "execution_count": 0,
   "metadata": {
    "application/vnd.databricks.v1+cell": {
     "cellMetadata": {},
     "inputWidgets": {},
     "nuid": "aa50fd61-254c-4af4-b7de-f2d237fff2ba",
     "showTitle": false,
     "title": ""
    }
   },
   "outputs": [],
   "source": [
    "# Negative Score Vs Recommend Rating\n",
    "sns.barplot(x = 'Recommendation_Score',\n",
    "            y = 'neg',\n",
    "            data = vaders)\n",
    "plt.xlabel(\"Recommendation Score\")\n",
    "plt.ylabel(\"Negative Score from VADER\")\n",
    "plt.show()"
   ]
  },
  {
   "cell_type": "code",
   "execution_count": 0,
   "metadata": {
    "application/vnd.databricks.v1+cell": {
     "cellMetadata": {},
     "inputWidgets": {},
     "nuid": "cacdbc61-c90a-49c6-8c98-581efdef5a39",
     "showTitle": false,
     "title": ""
    }
   },
   "outputs": [],
   "source": [
    "# Compound Score Vs Recommend Rating\n",
    "sns.barplot(x = 'Recommendation_Score',\n",
    "            y = 'compound',\n",
    "            data = vaders)\n",
    "plt.xlabel(\"Recommendation Score\")\n",
    "plt.ylabel(\"Compound Score from VADER\")\n",
    "plt.show()"
   ]
  },
  {
   "cell_type": "code",
   "execution_count": 0,
   "metadata": {
    "application/vnd.databricks.v1+cell": {
     "cellMetadata": {},
     "inputWidgets": {},
     "nuid": "549931e8-4e70-403e-98cb-4fee7fe74ee9",
     "showTitle": false,
     "title": ""
    }
   },
   "outputs": [],
   "source": [
    "def f(row):\n",
    "    if row['compound'] >= 0.5:\n",
    "        val = 1 #'Positive Sentiment'\n",
    "    elif (row['compound'] > -0.5) & (row['compound'] < 0.5):\n",
    "        val = 2 #'Neutral Sentiment'\n",
    "    elif row['compound'] <= -0.5:\n",
    "        val = 3 #'Negative Sentiment'\n",
    "    return val"
   ]
  },
  {
   "cell_type": "code",
   "execution_count": 0,
   "metadata": {
    "application/vnd.databricks.v1+cell": {
     "cellMetadata": {},
     "inputWidgets": {},
     "nuid": "22fcfd0d-8813-4e9f-9897-7cf963a9c797",
     "showTitle": false,
     "title": ""
    }
   },
   "outputs": [],
   "source": [
    "vaders['Sentiment_Type'] = vaders.apply(f, axis=1)"
   ]
  },
  {
   "cell_type": "code",
   "execution_count": 0,
   "metadata": {
    "application/vnd.databricks.v1+cell": {
     "cellMetadata": {},
     "inputWidgets": {},
     "nuid": "434c8530-c935-4712-b572-189cb2f78416",
     "showTitle": false,
     "title": ""
    }
   },
   "outputs": [],
   "source": [
    "# print(vaders[\"Sentiment_Type\"].unique())"
   ]
  },
  {
   "cell_type": "code",
   "execution_count": 0,
   "metadata": {
    "application/vnd.databricks.v1+cell": {
     "cellMetadata": {},
     "inputWidgets": {},
     "nuid": "2fe953d1-b0d1-4c22-82c3-8525d4979df8",
     "showTitle": false,
     "title": ""
    }
   },
   "outputs": [],
   "source": [
    "vaders['Sentiment_Type'].value_counts()"
   ]
  },
  {
   "cell_type": "code",
   "execution_count": 0,
   "metadata": {
    "application/vnd.databricks.v1+cell": {
     "cellMetadata": {},
     "inputWidgets": {},
     "nuid": "390cd8dd-e83f-4738-9603-3fb69f120e0f",
     "showTitle": false,
     "title": ""
    }
   },
   "outputs": [],
   "source": [
    "def f_RatingGroup(row):\n",
    "    if (row['Recommendation_Score'] in [0,1,2,3,4,5,6,7]):\n",
    "        return 'Bad' #1\n",
    "    elif (row['Recommendation_Score'] in [8,9]):\n",
    "        return 'Good' #2\n",
    "    elif (row['Recommendation_Score'] in [10]):\n",
    "        return 'Excellent' #3"
   ]
  },
  {
   "cell_type": "code",
   "execution_count": 0,
   "metadata": {
    "application/vnd.databricks.v1+cell": {
     "cellMetadata": {},
     "inputWidgets": {},
     "nuid": "eabaf1d5-060d-4011-96f8-1bd60dac6623",
     "showTitle": false,
     "title": ""
    }
   },
   "outputs": [],
   "source": [
    "vaders['Recommendation_Score_New'] = vaders.apply(f_RatingGroup, axis=1)"
   ]
  },
  {
   "cell_type": "code",
   "execution_count": 0,
   "metadata": {
    "application/vnd.databricks.v1+cell": {
     "cellMetadata": {},
     "inputWidgets": {},
     "nuid": "dbdd43b6-4e91-46da-90f3-efbb886073d8",
     "showTitle": false,
     "title": ""
    }
   },
   "outputs": [],
   "source": [
    "vaders['Recommendation_Score_New'].value_counts()"
   ]
  },
  {
   "cell_type": "code",
   "execution_count": 0,
   "metadata": {
    "application/vnd.databricks.v1+cell": {
     "cellMetadata": {},
     "inputWidgets": {},
     "nuid": "9d51ffcb-020c-4b0c-afa7-b3700735f45e",
     "showTitle": false,
     "title": ""
    }
   },
   "outputs": [],
   "source": [
    "vaders = vaders.rename(columns={'Decides_on_the_Kitchen_purchase': 'Decides_on_the_Product_SKU_purchase'})"
   ]
  },
  {
   "cell_type": "code",
   "execution_count": 0,
   "metadata": {
    "application/vnd.databricks.v1+cell": {
     "cellMetadata": {},
     "inputWidgets": {},
     "nuid": "879ee058-21c8-4bd6-bbe2-212b6df78843",
     "showTitle": false,
     "title": ""
    }
   },
   "outputs": [],
   "source": [
    "# This function will be utilised in a lot of analysis\n",
    "def get_count_df(df):\n",
    "  list_name=[]\n",
    "  count_yes=[]\n",
    "  for c in df.columns:\n",
    "    list_name.append(c)\n",
    "    count_yes.append(df[c].value_counts()[1])\n",
    "  var_key = {'var_name':list_name,'count_value':count_yes}\n",
    "  new_df = pd.DataFrame(var_key)\n",
    "  new_df = new_df.sort_values(by=['count_value'], ascending=False)\n",
    "  return new_df"
   ]
  },
  {
   "cell_type": "code",
   "execution_count": 0,
   "metadata": {
    "application/vnd.databricks.v1+cell": {
     "cellMetadata": {},
     "inputWidgets": {},
     "nuid": "348db3fc-ace3-4b4d-a213-49ea757a6e52",
     "showTitle": false,
     "title": ""
    }
   },
   "outputs": [],
   "source": [
    "df_channel = vaders.loc[:, ['Billboards_Signs','TV_Advertisement','Store_signage','Print_Ad_newspaper','Google_Ads','Google_my_business_store_page','Flyers_Pamphlets','Relatives_Friends','Website','Instagram','Facebook','YouTube',\n",
    "'Walk_in_showroom']]"
   ]
  },
  {
   "cell_type": "code",
   "execution_count": 0,
   "metadata": {
    "application/vnd.databricks.v1+cell": {
     "cellMetadata": {},
     "inputWidgets": {},
     "nuid": "9544d003-4083-4c83-8844-4c3af50b5f79",
     "showTitle": false,
     "title": ""
    }
   },
   "outputs": [],
   "source": [
    "channel_df = get_count_df(df_channel)"
   ]
  },
  {
   "cell_type": "code",
   "execution_count": 0,
   "metadata": {
    "application/vnd.databricks.v1+cell": {
     "cellMetadata": {},
     "inputWidgets": {},
     "nuid": "35083297-646c-47a5-9345-a835ce74df90",
     "showTitle": false,
     "title": ""
    }
   },
   "outputs": [],
   "source": [
    "list_channel_name = [\"Billboards / Signs\",\t\"TV Advertisement\",\t\"Store signage\",\t\"Print Ad (newspaper)\",\t\"Google Ads\",\t\"Google my business store page\",\t\"Flyers / Pamphlets\",\t\"Relatives / Friends\",\t\"Website\",\t\"Instagram\",\t\"Facebook\",\t\"YouTube\",\t\"Walk in (showroom)\"\n",
    "]"
   ]
  },
  {
   "cell_type": "code",
   "execution_count": 0,
   "metadata": {
    "application/vnd.databricks.v1+cell": {
     "cellMetadata": {},
     "inputWidgets": {},
     "nuid": "82c0c2ff-bc64-4bd6-bdb6-2aa460099dbc",
     "showTitle": false,
     "title": ""
    }
   },
   "outputs": [],
   "source": [
    "channel_df['var_name'] = list_channel_name"
   ]
  },
  {
   "cell_type": "code",
   "execution_count": 0,
   "metadata": {
    "application/vnd.databricks.v1+cell": {
     "cellMetadata": {},
     "inputWidgets": {},
     "nuid": "f98ebce4-a0a7-44bb-9770-903c0be5d3af",
     "showTitle": false,
     "title": ""
    }
   },
   "outputs": [],
   "source": [
    "channel_df[\"PercentageOfTotalInterviewee\"] = channel_df[\"count_value\"] *(100/670)"
   ]
  },
  {
   "cell_type": "code",
   "execution_count": 0,
   "metadata": {
    "application/vnd.databricks.v1+cell": {
     "cellMetadata": {},
     "inputWidgets": {},
     "nuid": "f2890216-f3d1-4725-8ffe-1838226a0fec",
     "showTitle": false,
     "title": ""
    }
   },
   "outputs": [],
   "source": [
    "channel_df = channel_df.sort_values(by=['count_value'], ascending=False)"
   ]
  },
  {
   "cell_type": "code",
   "execution_count": 0,
   "metadata": {
    "application/vnd.databricks.v1+cell": {
     "cellMetadata": {},
     "inputWidgets": {},
     "nuid": "e0d24cd3-0c11-4194-85f2-201a56caa281",
     "showTitle": false,
     "title": ""
    }
   },
   "outputs": [],
   "source": [
    "channel_df.plot.barh(x=\"var_name\", y=\"count_value\", title=\"Media Vs Count of customers\")\n",
    "plt.ylabel(\"Media\")\n",
    "plt.xlabel(\"Count of customers\") \n",
    "plt.show()"
   ]
  },
  {
   "cell_type": "code",
   "execution_count": 0,
   "metadata": {
    "application/vnd.databricks.v1+cell": {
     "cellMetadata": {},
     "inputWidgets": {},
     "nuid": "d222bd99-4e0d-46dc-8ba0-4fa54fe26394",
     "showTitle": false,
     "title": ""
    }
   },
   "outputs": [],
   "source": [
    "df_age_marital_cust = vaders.loc[:, ['Gender','Age','MaritalStatus','Recommendation_Score']]"
   ]
  },
  {
   "cell_type": "code",
   "execution_count": 0,
   "metadata": {
    "application/vnd.databricks.v1+cell": {
     "cellMetadata": {},
     "inputWidgets": {},
     "nuid": "ae0b074a-f2a6-46e3-9232-ab2c3f434906",
     "showTitle": false,
     "title": ""
    }
   },
   "outputs": [],
   "source": [
    "def f_RatingScore(row):\n",
    "    if (row['Recommendation_Score'] in [0,1,2,3,4,5,6,7]):\n",
    "        return 1\n",
    "    elif (row['Recommendation_Score'] in [8,9]):\n",
    "        return 2\n",
    "    elif (row['Recommendation_Score'] in [10]):\n",
    "        return 3"
   ]
  },
  {
   "cell_type": "code",
   "execution_count": 0,
   "metadata": {
    "application/vnd.databricks.v1+cell": {
     "cellMetadata": {},
     "inputWidgets": {},
     "nuid": "988ee52d-e2d2-44f7-8fe6-0d34c87f60ba",
     "showTitle": false,
     "title": ""
    }
   },
   "outputs": [],
   "source": [
    "df_age_marital_cust['RatingScore'] = df_age_marital_cust.apply(f_RatingScore, axis=1)"
   ]
  },
  {
   "cell_type": "code",
   "execution_count": 0,
   "metadata": {
    "application/vnd.databricks.v1+cell": {
     "cellMetadata": {},
     "inputWidgets": {},
     "nuid": "7460c20f-1d15-4d66-8041-c01ee8e4f4f2",
     "showTitle": false,
     "title": ""
    }
   },
   "outputs": [],
   "source": [
    "df_age_marital_cust = df_age_marital_cust.drop(columns=['Recommendation_Score'])"
   ]
  },
  {
   "cell_type": "code",
   "execution_count": 0,
   "metadata": {
    "application/vnd.databricks.v1+cell": {
     "cellMetadata": {},
     "inputWidgets": {},
     "nuid": "a210b0a4-18ad-4a44-a4c7-bb5f8d657665",
     "showTitle": false,
     "title": ""
    }
   },
   "outputs": [],
   "source": [
    "# Changing the column type of age column for mathematical manipulation possible over it.\n",
    "df_age_marital_cust[\"Age\"] = pd.to_numeric(df_age_marital_cust[\"Age\"])"
   ]
  },
  {
   "cell_type": "code",
   "execution_count": 0,
   "metadata": {
    "application/vnd.databricks.v1+cell": {
     "cellMetadata": {},
     "inputWidgets": {},
     "nuid": "703cb35c-b90e-456b-a07a-e26c36b35cf6",
     "showTitle": false,
     "title": ""
    }
   },
   "outputs": [],
   "source": [
    "def f_ageGroup(row):\n",
    "    if row['Age'] <= 25:\n",
    "        return 'Below 25'\n",
    "    elif (row['Age'] > 25) & (row['Age'] < 35):\n",
    "        return 'Between 25 and 35'\n",
    "    elif (row['Age'] > 35) & (row['Age'] < 50):\n",
    "        return 'Between 35 and 50'\n",
    "    elif row['Age'] >= 50:\n",
    "        return 'Above 50'"
   ]
  },
  {
   "cell_type": "code",
   "execution_count": 0,
   "metadata": {
    "application/vnd.databricks.v1+cell": {
     "cellMetadata": {},
     "inputWidgets": {},
     "nuid": "ddbee4b0-9006-4450-95a7-3e32fb604f27",
     "showTitle": false,
     "title": ""
    }
   },
   "outputs": [],
   "source": [
    "df_age_marital_cust['Age_Group'] = df_age_marital_cust.apply(f_ageGroup, axis=1)"
   ]
  },
  {
   "cell_type": "code",
   "execution_count": 0,
   "metadata": {
    "application/vnd.databricks.v1+cell": {
     "cellMetadata": {},
     "inputWidgets": {},
     "nuid": "7ec22998-380a-4b30-91bb-b4f5ee1e26ab",
     "showTitle": false,
     "title": ""
    }
   },
   "outputs": [],
   "source": [
    "df_age_marital_cust = df_age_marital_cust.sort_values(by=['Age','RatingScore'], ascending=True)"
   ]
  },
  {
   "cell_type": "code",
   "execution_count": 0,
   "metadata": {
    "application/vnd.databricks.v1+cell": {
     "cellMetadata": {},
     "inputWidgets": {},
     "nuid": "352eaac1-7ef7-4780-bb24-d8b8c1e73af6",
     "showTitle": false,
     "title": ""
    }
   },
   "outputs": [],
   "source": [
    "df_age_marital_cust = df_age_marital_cust.drop(columns=['Age'])"
   ]
  },
  {
   "cell_type": "code",
   "execution_count": 0,
   "metadata": {
    "application/vnd.databricks.v1+cell": {
     "cellMetadata": {},
     "inputWidgets": {},
     "nuid": "4525a516-c1f3-4bd8-9697-86b4e0d82841",
     "showTitle": false,
     "title": ""
    }
   },
   "outputs": [],
   "source": [
    "df_gender = df_age_marital_cust.groupby([\"Gender\", \"RatingScore\"])[\"RatingScore\"].value_counts().unstack(fill_value=0)"
   ]
  },
  {
   "cell_type": "code",
   "execution_count": 0,
   "metadata": {
    "application/vnd.databricks.v1+cell": {
     "cellMetadata": {},
     "inputWidgets": {},
     "nuid": "460f4db7-3dda-4fe2-a768-50f36d5efb6b",
     "showTitle": false,
     "title": ""
    }
   },
   "outputs": [],
   "source": [
    "df_gender.plot(kind=\"bar\", stacked=True)\n",
    "plt.xticks(rotation=90, horizontalalignment=\"center\")\n",
    "plt.title(\"Analysis of Gender of the Respondent and their Recommendation Score\")\n",
    "plt.show()"
   ]
  },
  {
   "cell_type": "code",
   "execution_count": 0,
   "metadata": {
    "application/vnd.databricks.v1+cell": {
     "cellMetadata": {},
     "inputWidgets": {},
     "nuid": "0a94d1b4-43ce-4076-bea8-1e34b6dd104b",
     "showTitle": false,
     "title": ""
    }
   },
   "outputs": [],
   "source": [
    "df_age = df_age_marital_cust.groupby([\"Age_Group\", \"RatingScore\"])[\"RatingScore\"].value_counts().unstack(fill_value=0)"
   ]
  },
  {
   "cell_type": "code",
   "execution_count": 0,
   "metadata": {
    "application/vnd.databricks.v1+cell": {
     "cellMetadata": {},
     "inputWidgets": {},
     "nuid": "1ca97eb0-dcdc-4f4c-87d3-e924f19176d9",
     "showTitle": false,
     "title": ""
    }
   },
   "outputs": [],
   "source": [
    "df_age.plot.bar(figsize = (10, 12), stacked=True)\n",
    "plt.xticks(rotation=90, horizontalalignment=\"center\")\n",
    "plt.title(\"Analysis of Age group of the Respondent and their Recommendation Score\")\n",
    "plt.show()"
   ]
  },
  {
   "cell_type": "code",
   "execution_count": 0,
   "metadata": {
    "application/vnd.databricks.v1+cell": {
     "cellMetadata": {},
     "inputWidgets": {},
     "nuid": "425f446e-b0b7-48d3-99d2-13b59efff827",
     "showTitle": false,
     "title": ""
    }
   },
   "outputs": [],
   "source": [
    "df_marital = df_age_marital_cust.groupby([\"MaritalStatus\", \"RatingScore\"])[\"RatingScore\"].value_counts().unstack(fill_value=0)"
   ]
  },
  {
   "cell_type": "code",
   "execution_count": 0,
   "metadata": {
    "application/vnd.databricks.v1+cell": {
     "cellMetadata": {},
     "inputWidgets": {},
     "nuid": "4a0af0bf-221c-404f-a129-265402e0c6e4",
     "showTitle": false,
     "title": ""
    }
   },
   "outputs": [],
   "source": [
    "df_marital.plot(kind=\"bar\", stacked=True)\n",
    "plt.xticks(rotation=90, horizontalalignment=\"center\")\n",
    "plt.title(\"Analysis of Marital status of the Respondent and their Recommendation Score\")\n",
    "plt.show()"
   ]
  },
  {
   "cell_type": "code",
   "execution_count": 0,
   "metadata": {
    "application/vnd.databricks.v1+cell": {
     "cellMetadata": {},
     "inputWidgets": {},
     "nuid": "34658484-9b9f-4f9e-a875-e1c2b56df08c",
     "showTitle": false,
     "title": ""
    }
   },
   "outputs": [],
   "source": [
    "# This function will be utilised in a lot of analysis\n",
    "# 'Poor':1, 'Fair':2, 'Good':3, 'Very Good':4, 'Excellent':5\n",
    "def get_count_df_good(df):\n",
    "  list_name=[]\n",
    "  count_p=[]\n",
    "  count_f=[]\n",
    "  count_g=[]\n",
    "  count_vg=[]\n",
    "  count_e=[]\n",
    "  for c in df.columns:\n",
    "    list_name.append(c)\n",
    "    if 'Poor' in df[c].unique().tolist(): \n",
    "      count_p.append(df[c].value_counts()['Poor'])\n",
    "    else:\n",
    "      count_p.append(0)\n",
    "    if 'Fair' in df[c].unique().tolist(): \n",
    "      count_f.append(df[c].value_counts()['Fair'])\n",
    "    else:\n",
    "      count_f.append(0)\n",
    "    if 'Good' in df[c].unique().tolist(): \n",
    "      count_g.append(df[c].value_counts()['Good'])\n",
    "    else:\n",
    "      count_g.append(0)\n",
    "    if 'Very Good' in df[c].unique().tolist(): \n",
    "      count_vg.append(df[c].value_counts()['Very Good'])\n",
    "    else:\n",
    "      count_vg.append(0)\n",
    "    if 'Excellent' in df[c].unique().tolist(): \n",
    "      count_e.append(df[c].value_counts()['Excellent'])\n",
    "    else:\n",
    "      count_e.append(0)\n",
    "  var_key = {'var_name':list_name,'Poor':count_p,'Fair':count_f,'Good':count_g,'Very Good':count_vg,'Excellent':count_e}\n",
    "  new_df = pd.DataFrame(var_key)\n",
    "  return new_df"
   ]
  },
  {
   "cell_type": "code",
   "execution_count": 0,
   "metadata": {
    "application/vnd.databricks.v1+cell": {
     "cellMetadata": {},
     "inputWidgets": {},
     "nuid": "98fbd863-eda4-44a3-a1da-7e236bd7fc69",
     "showTitle": false,
     "title": ""
    }
   },
   "outputs": [],
   "source": [
    "# Imagery\n",
    "df_imagery_FMCG_Company = vaders.loc[:, ['FMCG_Company_offers_latest_trends_and_contemporary_designs_of_Product_SKU','FMCG_Company_is_very_reliable_to_buy_product_from','FMCG_Company_is_very_innovative_in_its_products_and_designs','FMCG_Company_offers_Product_SKU_which_promotes_health','FMCG_Company_is_a_company_which_understands_my_needs_and_wants','FMCG_Company_products_are_Durable_for_long-term_use','FMCG_Company_products_have_better_features_compared_to_other_brands'\n",
    "]]"
   ]
  },
  {
   "cell_type": "code",
   "execution_count": 0,
   "metadata": {
    "application/vnd.databricks.v1+cell": {
     "cellMetadata": {},
     "inputWidgets": {},
     "nuid": "e50ccf13-9aad-49ab-b3b1-8ee1f2720fd3",
     "showTitle": false,
     "title": ""
    }
   },
   "outputs": [],
   "source": [
    "imagery_FMCG_Company_df = get_count_df_good(df_imagery_FMCG_Company)"
   ]
  },
  {
   "cell_type": "code",
   "execution_count": 0,
   "metadata": {
    "application/vnd.databricks.v1+cell": {
     "cellMetadata": {},
     "inputWidgets": {},
     "nuid": "10071790-017f-40fa-bb99-567dedcdf17c",
     "showTitle": false,
     "title": ""
    }
   },
   "outputs": [],
   "source": [
    "# ax = showroom_FMCG_Company_df.plot.bar(stacked=True)\n",
    "imagery_FMCG_Company_df.plot.bar(figsize = (10, 12))\n",
    "# imagery_FMCG_Company_df.plot(kind=\"barh\", stacked=True)\n",
    "plt.title(\"Number of Customers Vs Experience with Imagery\")\n",
    "# plt.xticks(rotation=45, horizontalalignment=\"center\")\n",
    "plt.xlabel(\"Experience with Imagery\")\n",
    "plt.ylabel(\"Number of Customers\")\n",
    "plt.show()"
   ]
  },
  {
   "cell_type": "code",
   "execution_count": 0,
   "metadata": {
    "application/vnd.databricks.v1+cell": {
     "cellMetadata": {},
     "inputWidgets": {},
     "nuid": "cd414a1a-5d65-48be-a319-0844a32f781b",
     "showTitle": false,
     "title": ""
    }
   },
   "outputs": [],
   "source": [
    "# Showroom\n",
    "df_showroom_FMCG_Company = vaders.loc[:, ['Accessibility_of_showroom','Ambience_of_the_showroom','Cleanliness','Variety_sufficient_adequate_display_in_the_store','Parking_convenience','Locating_store_through_Google_Maps','Availability_of_latest_e_catalogue','Range_of_products_displayed','Availability_of_designs_colour_palette_material_options_within_products_of_choice'\n",
    "]]"
   ]
  },
  {
   "cell_type": "code",
   "execution_count": 0,
   "metadata": {
    "application/vnd.databricks.v1+cell": {
     "cellMetadata": {},
     "inputWidgets": {},
     "nuid": "1d0cb20e-2b0e-4551-94ae-2a941743a29d",
     "showTitle": false,
     "title": ""
    }
   },
   "outputs": [],
   "source": [
    "showroom_FMCG_Company_df = get_count_df_good(df_showroom_FMCG_Company)"
   ]
  },
  {
   "cell_type": "code",
   "execution_count": 0,
   "metadata": {
    "application/vnd.databricks.v1+cell": {
     "cellMetadata": {},
     "inputWidgets": {},
     "nuid": "def2b5b9-bf79-4e51-98ba-37562dfacdc0",
     "showTitle": false,
     "title": ""
    }
   },
   "outputs": [],
   "source": [
    "showroom_FMCG_Company_df.plot.bar(figsize = (10, 12))\n",
    "plt.title(\"Number of Customers Vs Experience with Showroom\")\n",
    "plt.xlabel(\"Experience with Showroom\")\n",
    "plt.ylabel(\"Number of Customers\")\n",
    "plt.show()"
   ]
  },
  {
   "cell_type": "code",
   "execution_count": 0,
   "metadata": {
    "application/vnd.databricks.v1+cell": {
     "cellMetadata": {},
     "inputWidgets": {},
     "nuid": "606106be-0f55-46f3-8662-17d8c0c8d28c",
     "showTitle": false,
     "title": ""
    }
   },
   "outputs": [],
   "source": [
    "df_staff = vaders.loc[:, ['Courteousness_Behaviour_of_staff','Personnel_was_knowledgeable_about_products','Ability_of_staff_to_address_your_queries','Ability_of_staff_to_suggest_provide_right_products_for_your_requirement','Greeted_you_as_soon_as_you_entered_the_store_or_were_approached_by_a_staff','Store_staff_ability_to_communicate_about_prod_price_offer','Communication_skills_of_staff','Grooming_of_the_showroom_personnel','Quality_of_recommendation_design_suggestion'\n",
    "]]"
   ]
  },
  {
   "cell_type": "code",
   "execution_count": 0,
   "metadata": {
    "application/vnd.databricks.v1+cell": {
     "cellMetadata": {},
     "inputWidgets": {},
     "nuid": "4c5732e2-bd4b-4a87-b028-f111df3d82f1",
     "showTitle": false,
     "title": ""
    }
   },
   "outputs": [],
   "source": [
    "staff_df = get_count_df_good(df_staff)"
   ]
  },
  {
   "cell_type": "code",
   "execution_count": 0,
   "metadata": {
    "application/vnd.databricks.v1+cell": {
     "cellMetadata": {},
     "inputWidgets": {},
     "nuid": "97d4dacc-ae51-4961-a822-589aa4159c44",
     "showTitle": false,
     "title": ""
    }
   },
   "outputs": [],
   "source": [
    "staff_df.plot.bar(figsize = (10, 12))\n",
    "plt.title(\"Number of Customers Vs Experience with Staff Behaviour\")\n",
    "plt.xlabel(\"Experience with Staff Behaviour\")\n",
    "plt.ylabel(\"Number of Customers\")\n",
    "plt.show()"
   ]
  },
  {
   "cell_type": "code",
   "execution_count": 0,
   "metadata": {
    "application/vnd.databricks.v1+cell": {
     "cellMetadata": {},
     "inputWidgets": {},
     "nuid": "ae2cc29a-6f01-46b3-8722-5f8bf1e5e897",
     "showTitle": false,
     "title": ""
    }
   },
   "outputs": [],
   "source": [
    "df_prod_purchase = vaders.loc[:, ['Product_Quality','Products_offered_are_different_unique_in_the_market','Durability_of_the_product','Comfort_of_the_Product_SKU'\n",
    "]]"
   ]
  },
  {
   "cell_type": "code",
   "execution_count": 0,
   "metadata": {
    "application/vnd.databricks.v1+cell": {
     "cellMetadata": {},
     "inputWidgets": {},
     "nuid": "5c941504-d6cc-4528-95e8-9c35ca4793bd",
     "showTitle": false,
     "title": ""
    }
   },
   "outputs": [],
   "source": [
    "prod_purchase_df = get_count_df_good(df_prod_purchase)"
   ]
  },
  {
   "cell_type": "code",
   "execution_count": 0,
   "metadata": {
    "application/vnd.databricks.v1+cell": {
     "cellMetadata": {},
     "inputWidgets": {},
     "nuid": "1c1432dc-ea02-4f34-9fa1-bbabe8cefc5b",
     "showTitle": false,
     "title": ""
    }
   },
   "outputs": [],
   "source": [
    "prod_purchase_df.plot.bar(figsize = (10, 12))\n",
    "plt.title(\"Number of Customers Vs Experience with Product Purchase\")\n",
    "plt.xlabel(\"Experience with Product Purchase\")\n",
    "plt.xlabel(\"Number of Customers\")\n",
    "plt.show()"
   ]
  },
  {
   "cell_type": "code",
   "execution_count": 0,
   "metadata": {
    "application/vnd.databricks.v1+cell": {
     "cellMetadata": {},
     "inputWidgets": {},
     "nuid": "e70c3894-c4b3-4909-b17d-6cbe444d21c9",
     "showTitle": false,
     "title": ""
    }
   },
   "outputs": [],
   "source": [
    "df_Product_SKU_purchase = vaders.loc[:, ['Availability_of_range_in_product_miniature_for_all_kinds_of_material',\n",
    "'Availability_of_exact_dimensions','Proactive_explanation_about_products'\n",
    "]]"
   ]
  },
  {
   "cell_type": "code",
   "execution_count": 0,
   "metadata": {
    "application/vnd.databricks.v1+cell": {
     "cellMetadata": {},
     "inputWidgets": {},
     "nuid": "78b064b8-da2d-4993-b00a-2f5162c2927d",
     "showTitle": false,
     "title": ""
    }
   },
   "outputs": [],
   "source": [
    "Product_SKU_purchase_df = get_count_df_good(df_Product_SKU_purchase)"
   ]
  },
  {
   "cell_type": "code",
   "execution_count": 0,
   "metadata": {
    "application/vnd.databricks.v1+cell": {
     "cellMetadata": {},
     "inputWidgets": {},
     "nuid": "f73c87e5-c4c5-48f5-a85d-f9c53f97f28e",
     "showTitle": false,
     "title": ""
    }
   },
   "outputs": [],
   "source": [
    "Product_SKU_purchase_df.plot.bar(figsize = (10, 12))\n",
    "plt.title(\"Number of Customers Vs Experience with Product_SKU Purchase\")\n",
    "plt.xlabel(\"Experience with Product_SKU Purchase\")\n",
    "plt.ylabel(\"Number of Customers\")\n",
    "plt.show()"
   ]
  },
  {
   "cell_type": "code",
   "execution_count": 0,
   "metadata": {
    "application/vnd.databricks.v1+cell": {
     "cellMetadata": {},
     "inputWidgets": {},
     "nuid": "0f82a226-85eb-4dd6-b07a-70be31bd91bf",
     "showTitle": false,
     "title": ""
    }
   },
   "outputs": [],
   "source": [
    "df_billing = vaders.loc[:, ['Product_price','Discount_Offers_at_the_time_of_purchase','Clarity_of_communication_on_return_refund_replacement_policy_claim_policy','Time_taken_to_complete_purchase_formalities','Billing_time_taken','Payment_Terms','Warranty_and_Guarantee','Availability_of_Product_SKU_at_various_price_points'\n",
    "]]"
   ]
  },
  {
   "cell_type": "code",
   "execution_count": 0,
   "metadata": {
    "application/vnd.databricks.v1+cell": {
     "cellMetadata": {},
     "inputWidgets": {},
     "nuid": "2f7ac25a-0a58-47e4-ba8e-77907594e662",
     "showTitle": false,
     "title": ""
    }
   },
   "outputs": [],
   "source": [
    "billing_df = get_count_df_good(df_billing)"
   ]
  },
  {
   "cell_type": "code",
   "execution_count": 0,
   "metadata": {
    "application/vnd.databricks.v1+cell": {
     "cellMetadata": {},
     "inputWidgets": {},
     "nuid": "22dc4f68-bdd0-40ca-8ce1-550da0c0e490",
     "showTitle": false,
     "title": ""
    }
   },
   "outputs": [],
   "source": [
    "billing_df.plot.bar(figsize = (10, 12))\n",
    "plt.title(\"Number of Customers Vs Experience with Billing Experience\")\n",
    "plt.xlabel(\"Experience with Billing\")\n",
    "plt.ylabel(\"Number of Customers\")\n",
    "plt.show()"
   ]
  },
  {
   "cell_type": "code",
   "execution_count": 0,
   "metadata": {
    "application/vnd.databricks.v1+cell": {
     "cellMetadata": {},
     "inputWidgets": {},
     "nuid": "eb8bd5d0-eaf9-42fb-83c4-aafb3023ce14",
     "showTitle": false,
     "title": ""
    }
   },
   "outputs": [],
   "source": [
    "# Delivery"
   ]
  },
  {
   "cell_type": "code",
   "execution_count": 0,
   "metadata": {
    "application/vnd.databricks.v1+cell": {
     "cellMetadata": {},
     "inputWidgets": {},
     "nuid": "38b57bd2-3447-4d01-b496-636ac2b30755",
     "showTitle": false,
     "title": ""
    }
   },
   "outputs": [],
   "source": [
    "df_delivery = vaders.loc[:, ['Adherence_to_committed_delivery_time','Condition_of_product_on_delivery','Prior_intimation_of_delivery_delay_in_delivery','Dealer_personnel_was_professionally_groomed']]"
   ]
  },
  {
   "cell_type": "code",
   "execution_count": 0,
   "metadata": {
    "application/vnd.databricks.v1+cell": {
     "cellMetadata": {},
     "inputWidgets": {},
     "nuid": "37ca44ca-3bec-4972-a30c-270011ffdcab",
     "showTitle": false,
     "title": ""
    }
   },
   "outputs": [],
   "source": [
    "delivery_df = get_count_df_good(df_delivery)"
   ]
  },
  {
   "cell_type": "code",
   "execution_count": 0,
   "metadata": {
    "application/vnd.databricks.v1+cell": {
     "cellMetadata": {},
     "inputWidgets": {},
     "nuid": "adcc1546-e20c-4efb-a5e1-a935d65509a7",
     "showTitle": false,
     "title": ""
    }
   },
   "outputs": [],
   "source": [
    "delivery_df.plot.bar(figsize = (10, 12))\n",
    "plt.title(\"Number of Customers Vs Experience with Delivery\")\n",
    "plt.xlabel(\"Experience with Delivery\")\n",
    "plt.ylabel(\"Number of Customers\")\n",
    "plt.show()"
   ]
  },
  {
   "cell_type": "code",
   "execution_count": 0,
   "metadata": {
    "application/vnd.databricks.v1+cell": {
     "cellMetadata": {},
     "inputWidgets": {},
     "nuid": "1acd166f-bfd6-467e-8006-2b2549dbe883",
     "showTitle": false,
     "title": ""
    }
   },
   "outputs": [],
   "source": [
    "# Overall Experience"
   ]
  },
  {
   "cell_type": "code",
   "execution_count": 0,
   "metadata": {
    "application/vnd.databricks.v1+cell": {
     "cellMetadata": {},
     "inputWidgets": {},
     "nuid": "0f0cc37e-0662-4dc7-8e15-dac333920836",
     "showTitle": false,
     "title": ""
    }
   },
   "outputs": [],
   "source": [
    "df_overall = vaders.loc[:, ['Based_on_your_experience_you_are_satisfied_with_FMCG_Company','You_will_definitely_buy_FMCG_Company_for_your_future_needs','You_believe_that_FMCG_Company_delivers_the_best_value_for_the_money_you_have_spent','You_will_definitely_buy_other_products_and_services_from_FMCG_Company'\n",
    "]]"
   ]
  },
  {
   "cell_type": "code",
   "execution_count": 0,
   "metadata": {
    "application/vnd.databricks.v1+cell": {
     "cellMetadata": {},
     "inputWidgets": {},
     "nuid": "7312ec20-b38f-4f0b-a749-b695d5313ae6",
     "showTitle": false,
     "title": ""
    }
   },
   "outputs": [],
   "source": [
    "overall_df = get_count_df_good(df_overall)"
   ]
  },
  {
   "cell_type": "code",
   "execution_count": 0,
   "metadata": {
    "application/vnd.databricks.v1+cell": {
     "cellMetadata": {},
     "inputWidgets": {},
     "nuid": "4863d0ad-ba90-4257-8242-a6036ff36366",
     "showTitle": false,
     "title": ""
    }
   },
   "outputs": [],
   "source": [
    "overall_df.plot.bar(figsize = (10, 12))\n",
    "plt.title(\"Number of Customers Vs their Overall Experience\")\n",
    "plt.xlabel(\"Overall Experience of Customers\")\n",
    "plt.ylabel(\"Number of Customers\")\n",
    "plt.show()"
   ]
  },
  {
   "cell_type": "code",
   "execution_count": 0,
   "metadata": {
    "application/vnd.databricks.v1+cell": {
     "cellMetadata": {},
     "inputWidgets": {},
     "nuid": "8cb658a5-8000-4f6a-b7c6-692474f9d504",
     "showTitle": false,
     "title": ""
    }
   },
   "outputs": [],
   "source": [
    "# Rating given by customers \n",
    "df_rating = vaders.loc[:, ['Rate_Overall_Experience','Based_on_your_experience_you_are_satisfied_with_FMCG_Company','Rate_experience_on_the_Showroom','Rate_experience_with_the_Sales_Staff','Rate_experience_in_the_Purchase_of_FMCG_Company_Product_SKU','Rate_the_Product_SKU_purchase_experience_in_the_FMCG_Company_Product_SKU','Rate_the_Purchase_experience_price_discounts_billing_warranty','Rate_experience_with_the_Product_Delivery'\n",
    "]]"
   ]
  },
  {
   "cell_type": "code",
   "execution_count": 0,
   "metadata": {
    "application/vnd.databricks.v1+cell": {
     "cellMetadata": {},
     "inputWidgets": {},
     "nuid": "277cc842-234c-4ac7-8efe-b2f7e4038487",
     "showTitle": false,
     "title": ""
    }
   },
   "outputs": [],
   "source": [
    "rating_df = get_count_df_good(df_rating)"
   ]
  },
  {
   "cell_type": "code",
   "execution_count": 0,
   "metadata": {
    "application/vnd.databricks.v1+cell": {
     "cellMetadata": {},
     "inputWidgets": {},
     "nuid": "775307b3-0092-447a-ab35-94dde0aeb687",
     "showTitle": false,
     "title": ""
    }
   },
   "outputs": [],
   "source": [
    "rating_df.plot.bar(figsize = (10, 12))\n",
    "plt.title(\"Number of Customers Vs Ratings\")\n",
    "plt.xlabel(\"Ratings\")\n",
    "plt.ylabel(\"Number of Customers\")\n",
    "plt.show()"
   ]
  },
  {
   "cell_type": "code",
   "execution_count": 0,
   "metadata": {
    "application/vnd.databricks.v1+cell": {
     "cellMetadata": {},
     "inputWidgets": {},
     "nuid": "4bd63a70-40cc-442b-857d-5d13facdea6e",
     "showTitle": false,
     "title": ""
    }
   },
   "outputs": [],
   "source": [
    "df_Rating_FMCG_Company_1 = df_rating"
   ]
  },
  {
   "cell_type": "code",
   "execution_count": 0,
   "metadata": {
    "application/vnd.databricks.v1+cell": {
     "cellMetadata": {},
     "inputWidgets": {},
     "nuid": "463bbe67-a27d-404e-bdd4-49a448a8ea72",
     "showTitle": false,
     "title": ""
    }
   },
   "outputs": [],
   "source": [
    "for c in df_Rating_FMCG_Company_1.columns:    \n",
    "  df_Rating_FMCG_Company_1 = df_Rating_FMCG_Company_1.replace({c: {'Poor':1, 'Fair':2, 'Good':3, 'Very Good':4, 'Excellent':5}})"
   ]
  },
  {
   "cell_type": "code",
   "execution_count": 0,
   "metadata": {
    "application/vnd.databricks.v1+cell": {
     "cellMetadata": {},
     "inputWidgets": {},
     "nuid": "6c4bfed4-da83-4109-bdd1-63345a6be6df",
     "showTitle": false,
     "title": ""
    }
   },
   "outputs": [],
   "source": [
    "df_Rating_FMCG_Company_1.columns = ['0', '1', '2','3','4','5','6','7']"
   ]
  },
  {
   "cell_type": "code",
   "execution_count": 0,
   "metadata": {
    "application/vnd.databricks.v1+cell": {
     "cellMetadata": {},
     "inputWidgets": {},
     "nuid": "dd42f0b9-c53e-49e4-bfad-197baaa0f4bc",
     "showTitle": false,
     "title": ""
    }
   },
   "outputs": [],
   "source": [
    "df_Rating_FMCG_Company_corr = df_Rating_FMCG_Company_1.corr(\n",
    "    method = 'pearson',  # The method of correlation\n",
    "    min_periods = 1      # Min number of observations required\n",
    ")"
   ]
  },
  {
   "cell_type": "code",
   "execution_count": 0,
   "metadata": {
    "application/vnd.databricks.v1+cell": {
     "cellMetadata": {},
     "inputWidgets": {},
     "nuid": "81e9745e-3014-459e-ab58-1ea1d854792d",
     "showTitle": false,
     "title": ""
    }
   },
   "outputs": [],
   "source": [
    "sns.heatmap(df_Rating_FMCG_Company_corr,annot=True)\n",
    "plt.show()"
   ]
  },
  {
   "cell_type": "code",
   "execution_count": 0,
   "metadata": {
    "application/vnd.databricks.v1+cell": {
     "cellMetadata": {},
     "inputWidgets": {},
     "nuid": "999f3ae7-d4a4-4f56-9a9e-d6dab9aa6bc4",
     "showTitle": false,
     "title": ""
    }
   },
   "outputs": [],
   "source": []
  }
 ],
 "metadata": {
  "application/vnd.databricks.v1+notebook": {
   "dashboards": [],
   "environmentMetadata": null,
   "language": "python",
   "notebookMetadata": {
    "pythonIndentUnit": 4
   },
   "notebookName": "CustomerReview_SentimentAnalysis_Product_SKU_VADER",
   "widgets": {}
  }
 },
 "nbformat": 4,
 "nbformat_minor": 0
}
